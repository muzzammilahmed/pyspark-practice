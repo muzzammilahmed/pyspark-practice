{
 "cells": [
  {
   "cell_type": "code",
   "execution_count": 1,
   "metadata": {},
   "outputs": [],
   "source": [
    "from pyspark import SparkContext\n",
    "import pyspark.sql.functions as f\n",
    "from pyspark.sql import *\n",
    "import math"
   ]
  },
  {
   "cell_type": "code",
   "execution_count": 2,
   "metadata": {},
   "outputs": [
    {
     "name": "stderr",
     "output_type": "stream",
     "text": [
      "WARNING: An illegal reflective access operation has occurred\n",
      "WARNING: Illegal reflective access by org.apache.spark.unsafe.Platform (file:/usr/local/spark-3.1.2-bin-hadoop3.2/jars/spark-unsafe_2.12-3.1.2.jar) to constructor java.nio.DirectByteBuffer(long,int)\n",
      "WARNING: Please consider reporting this to the maintainers of org.apache.spark.unsafe.Platform\n",
      "WARNING: Use --illegal-access=warn to enable warnings of further illegal reflective access operations\n",
      "WARNING: All illegal access operations will be denied in a future release\n",
      "21/07/21 18:16:43 WARN NativeCodeLoader: Unable to load native-hadoop library for your platform... using builtin-java classes where applicable\n",
      "Using Spark's default log4j profile: org/apache/spark/log4j-defaults.properties\n",
      "Setting default log level to \"WARN\".\n",
      "To adjust logging level use sc.setLogLevel(newLevel). For SparkR, use setLogLevel(newLevel).\n",
      "21/07/21 18:16:45 WARN Utils: Service 'SparkUI' could not bind on port 4040. Attempting port 4041.\n"
     ]
    }
   ],
   "source": [
    "sc = SparkContext(\"local\", \"big_data\")\n",
    "sc.setLogLevel(\"Error\")\n",
    "spark = SparkSession(sc)"
   ]
  },
  {
   "cell_type": "code",
   "execution_count": 3,
   "metadata": {},
   "outputs": [],
   "source": [
    "alice = Row(student=\"Alice\", percent_achieved = 70, pass_exam = \"Yes\")\n",
    "bob = Row(student=\"Bob\", percent_achieved = 36, pass_exam = \"No\")\n",
    "carol = Row(student=\"Carol\", percent_achieved = 95, pass_exam = \"Yes\")\n",
    "dan = Row(student=\"Dan\", percent_achieved = 63, pass_exam = \"Yes\")\n",
    "eve = Row(student=\"Eve\", percent_achieved = 43, pass_exam = \"No\")\n",
    "frank = Row(student=\"Frank\", percent_achieved = 84, pass_exam = \"Yes\")\n",
    "grace = Row(student=\"Grace\", percent_achieved = 54, pass_exam = \"Yes\")\n",
    "heidi = Row(student=\"Heidi\", percent_achieved = 15, pass_exam = \"No\")\n",
    "ivan = Row(student=\"Ivan\", percent_achieved = 21, pass_exam = \"No\")\n",
    "judy = Row(student=\"Judy\", percent_achieved = 91, pass_exam = \"Yes\")\n",
    "mallory = Row(student=\"Mallory\", percent_achieved = 34, pass_exam = \"No\")"
   ]
  },
  {
   "cell_type": "code",
   "execution_count": 4,
   "metadata": {},
   "outputs": [],
   "source": [
    "dataTable = [alice,bob,carol,dan,eve,frank,grace,heidi,ivan,judy,mallory]\n",
    "df = spark.createDataFrame(dataTable)"
   ]
  },
  {
   "cell_type": "code",
   "execution_count": 5,
   "metadata": {},
   "outputs": [],
   "source": [
    "df_yes = df.where(f.col(\"pass_exam\")==\"Yes\")\n",
    "df_no =df.where(f.col(\"pass_exam\")==\"No\")"
   ]
  },
  {
   "cell_type": "code",
   "execution_count": 6,
   "metadata": {},
   "outputs": [
    {
     "name": "stderr",
     "output_type": "stream",
     "text": [
      "                                                                                \r"
     ]
    }
   ],
   "source": [
    "mean_yes = df_yes.select(f.mean(\"percent_achieved\")).first()[0]\n",
    "mean_no = df_no.select(f.mean(\"percent_achieved\")).first()[0]"
   ]
  },
  {
   "cell_type": "code",
   "execution_count": 7,
   "metadata": {},
   "outputs": [],
   "source": [
    "stddev_yes = df_yes.select(f.stddev(\"percent_achieved\")).first()[0]\n",
    "var_yes = stddev_yes * stddev_yes"
   ]
  },
  {
   "cell_type": "code",
   "execution_count": 8,
   "metadata": {},
   "outputs": [],
   "source": [
    "stddev_no = df_no.select(f.stddev(\"percent_achieved\")).first()[0]\n",
    "var_no = stddev_no * stddev_no"
   ]
  },
  {
   "cell_type": "code",
   "execution_count": 9,
   "metadata": {},
   "outputs": [
    {
     "name": "stdout",
     "output_type": "stream",
     "text": [
      "Mean Yes:  76.16666666666667\n",
      "Var Yes:  267.76666666666665\n",
      "Mean No:  29.8\n",
      "Var No:  131.70000000000002\n"
     ]
    }
   ],
   "source": [
    "print(\"Mean Yes: \", mean_yes)\n",
    "print(\"Var Yes: \",var_yes)\n",
    "print(\"Mean No: \",mean_no)\n",
    "print(\"Var No: \",var_no)"
   ]
  },
  {
   "cell_type": "code",
   "execution_count": 10,
   "metadata": {},
   "outputs": [],
   "source": [
    "def gaus(x,mean, variance):\n",
    "    return (1/(math.sqrt(2*math.pi*variance)))*math.exp(-((61-mean)**2)/(2*variance))"
   ]
  },
  {
   "cell_type": "code",
   "execution_count": 11,
   "metadata": {},
   "outputs": [
    {
     "name": "stdout",
     "output_type": "stream",
     "text": [
      "P(61|yes):  0.01586679399696767\n",
      "P(61|No):  0.0008631916482906215\n",
      "P(yes|61):  0.0265\n",
      "P(No|61):  0.00018\n"
     ]
    }
   ],
   "source": [
    "print(\"P(61|yes): \",gaus(61,mean_yes,var_yes))\n",
    "print(\"P(61|No): \",gaus(61,mean_no,var_no))\n",
    "\n",
    "print(\"P(yes|61): \", (1/6)*0.159)\n",
    "print(\"P(No|61): \", (1/5)*0.0009)"
   ]
  },
  {
   "cell_type": "code",
   "execution_count": null,
   "metadata": {},
   "outputs": [],
   "source": []
  }
 ],
 "metadata": {
  "kernelspec": {
   "display_name": "Python 3 (ipykernel)",
   "language": "python",
   "name": "python3"
  },
  "language_info": {
   "codemirror_mode": {
    "name": "ipython",
    "version": 3
   },
   "file_extension": ".py",
   "mimetype": "text/x-python",
   "name": "python",
   "nbconvert_exporter": "python",
   "pygments_lexer": "ipython3",
   "version": "3.9.5"
  }
 },
 "nbformat": 4,
 "nbformat_minor": 1
}
