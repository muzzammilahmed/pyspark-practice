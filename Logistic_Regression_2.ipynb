{
 "cells": [
  {
   "cell_type": "code",
   "execution_count": 3,
   "metadata": {},
   "outputs": [],
   "source": [
    "from pyspark import SparkContext\n",
    "from pyspark.sql import SparkSession\n",
    "\n",
    "from pyspark.sql.functions import expr, col\n",
    "from pyspark.ml.feature import RFormula\n",
    "from pyspark.ml.classification import LogisticRegression"
   ]
  },
  {
   "cell_type": "code",
   "execution_count": 16,
   "metadata": {},
   "outputs": [
    {
     "name": "stderr",
     "output_type": "stream",
     "text": [
      "21/07/21 17:58:38 WARN Utils: Service 'SparkUI' could not bind on port 4040. Attempting port 4041.\n"
     ]
    }
   ],
   "source": [
    "spark= SparkSession.builder.appName('dataframe app').getOrCreate()"
   ]
  },
  {
   "cell_type": "code",
   "execution_count": 17,
   "metadata": {},
   "outputs": [],
   "source": [
    "# load the ZOO dataset:\n",
    "zoo_data=spark.read.csv(\"zoo.csv\",inferSchema=True,header=True)\n",
    "zoo_data = zoo_data.withColumn(\"IsMammal\", expr(\"CASE WHEN Type = 1 THEN 1 ELSE 0 END\"))"
   ]
  },
  {
   "cell_type": "code",
   "execution_count": 18,
   "metadata": {},
   "outputs": [],
   "source": [
    "# preprocess dataset using RFormula\n",
    "\n",
    "preprocessed_data = RFormula(formula= \"IsMammal ~ Hair + Feathers + Eggs + Milk + Airborne + Aquatic +\" + \n",
    "                             \" Predator + Toothed + Backbone + Venomous + Fins + Legs+\" +\n",
    "                            \"Tail + Domestic + Catsize\")\n",
    "\n",
    "preprocessed_data = preprocessed_data.fit(zoo_data)\n",
    "preprocessed_data = preprocessed_data.transform(zoo_data)"
   ]
  },
  {
   "cell_type": "code",
   "execution_count": 19,
   "metadata": {},
   "outputs": [],
   "source": [
    "# split dataset into training and test data\n",
    "train, test = preprocessed_data.randomSplit([0.7, 0.3])"
   ]
  },
  {
   "cell_type": "code",
   "execution_count": 20,
   "metadata": {},
   "outputs": [],
   "source": [
    "# configure classifier\n",
    "lr = LogisticRegression(labelCol=\"label\", featuresCol=\"features\")"
   ]
  },
  {
   "cell_type": "code",
   "execution_count": 21,
   "metadata": {},
   "outputs": [],
   "source": [
    "# train classifier\n",
    "fittedLR = lr.fit(train)"
   ]
  },
  {
   "cell_type": "code",
   "execution_count": 22,
   "metadata": {},
   "outputs": [
    {
     "data": {
      "text/html": [
       "<div>\n",
       "<style scoped>\n",
       "    .dataframe tbody tr th:only-of-type {\n",
       "        vertical-align: middle;\n",
       "    }\n",
       "\n",
       "    .dataframe tbody tr th {\n",
       "        vertical-align: top;\n",
       "    }\n",
       "\n",
       "    .dataframe thead th {\n",
       "        text-align: right;\n",
       "    }\n",
       "</style>\n",
       "<table border=\"1\" class=\"dataframe\">\n",
       "  <thead>\n",
       "    <tr style=\"text-align: right;\">\n",
       "      <th></th>\n",
       "      <th>AnimalName</th>\n",
       "      <th>label</th>\n",
       "      <th>prediction</th>\n",
       "    </tr>\n",
       "  </thead>\n",
       "  <tbody>\n",
       "    <tr>\n",
       "      <th>0</th>\n",
       "      <td>clam</td>\n",
       "      <td>0.0</td>\n",
       "      <td>0.0</td>\n",
       "    </tr>\n",
       "    <tr>\n",
       "      <th>1</th>\n",
       "      <td>crayfish</td>\n",
       "      <td>0.0</td>\n",
       "      <td>0.0</td>\n",
       "    </tr>\n",
       "    <tr>\n",
       "      <th>2</th>\n",
       "      <td>goat</td>\n",
       "      <td>1.0</td>\n",
       "      <td>1.0</td>\n",
       "    </tr>\n",
       "    <tr>\n",
       "      <th>3</th>\n",
       "      <td>hamster</td>\n",
       "      <td>1.0</td>\n",
       "      <td>1.0</td>\n",
       "    </tr>\n",
       "    <tr>\n",
       "      <th>4</th>\n",
       "      <td>hawk</td>\n",
       "      <td>0.0</td>\n",
       "      <td>0.0</td>\n",
       "    </tr>\n",
       "    <tr>\n",
       "      <th>5</th>\n",
       "      <td>lobster</td>\n",
       "      <td>0.0</td>\n",
       "      <td>0.0</td>\n",
       "    </tr>\n",
       "  </tbody>\n",
       "</table>\n",
       "</div>"
      ],
      "text/plain": [
       "  AnimalName  label  prediction\n",
       "0       clam    0.0         0.0\n",
       "1   crayfish    0.0         0.0\n",
       "2       goat    1.0         1.0\n",
       "3    hamster    1.0         1.0\n",
       "4       hawk    0.0         0.0\n",
       "5    lobster    0.0         0.0"
      ]
     },
     "execution_count": 22,
     "metadata": {},
     "output_type": "execute_result"
    }
   ],
   "source": [
    "# classify test data set\n",
    "result = fittedLR.transform(preprocessed_data)\n",
    "result.select('AnimalName', 'label', 'prediction').where(expr(\"AnimalName in ('lobster', 'hawk', 'goat', 'crayfish', 'clam', 'hamster')\")).toPandas()"
   ]
  },
  {
   "cell_type": "code",
   "execution_count": 24,
   "metadata": {
    "scrolled": true
   },
   "outputs": [
    {
     "name": "stdout",
     "output_type": "stream",
     "text": [
      "+----------+--------+----------+\n",
      "|AnimalName|IsMammal|prediction|\n",
      "+----------+--------+----------+\n",
      "|  aardvark|       1|       1.0|\n",
      "|  antelope|       1|       1.0|\n",
      "|      bass|       0|       0.0|\n",
      "|      bear|       1|       1.0|\n",
      "|      boar|       1|       1.0|\n",
      "|   buffalo|       1|       1.0|\n",
      "|      calf|       1|       1.0|\n",
      "|      carp|       0|       0.0|\n",
      "|   catfish|       0|       0.0|\n",
      "|      cavy|       1|       1.0|\n",
      "|   cheetah|       1|       1.0|\n",
      "|   chicken|       0|       0.0|\n",
      "|      chub|       0|       0.0|\n",
      "|      clam|       0|       0.0|\n",
      "|      crab|       0|       0.0|\n",
      "|  crayfish|       0|       0.0|\n",
      "|      crow|       0|       0.0|\n",
      "|      deer|       1|       1.0|\n",
      "|   dogfish|       0|       0.0|\n",
      "|   dolphin|       1|       1.0|\n",
      "|      dove|       0|       0.0|\n",
      "|      duck|       0|       0.0|\n",
      "|  elephant|       1|       1.0|\n",
      "|  flamingo|       0|       0.0|\n",
      "|      flea|       0|       0.0|\n",
      "|      frog|       0|       0.0|\n",
      "|      frog|       0|       0.0|\n",
      "|  fruitbat|       1|       1.0|\n",
      "|   giraffe|       1|       1.0|\n",
      "|      girl|       1|       1.0|\n",
      "|      gnat|       0|       0.0|\n",
      "|      goat|       1|       1.0|\n",
      "|   gorilla|       1|       1.0|\n",
      "|      gull|       0|       0.0|\n",
      "|   haddock|       0|       0.0|\n",
      "|   hamster|       1|       1.0|\n",
      "|      hare|       1|       1.0|\n",
      "|      hawk|       0|       0.0|\n",
      "|   herring|       0|       0.0|\n",
      "|  honeybee|       0|       0.0|\n",
      "|  housefly|       0|       0.0|\n",
      "|      kiwi|       0|       0.0|\n",
      "|  ladybird|       0|       0.0|\n",
      "|      lark|       0|       0.0|\n",
      "|   leopard|       1|       1.0|\n",
      "|      lion|       1|       1.0|\n",
      "|   lobster|       0|       0.0|\n",
      "|      lynx|       1|       1.0|\n",
      "|      mink|       1|       1.0|\n",
      "|      mole|       1|       1.0|\n",
      "|  mongoose|       1|       1.0|\n",
      "|      moth|       0|       0.0|\n",
      "|      newt|       0|       0.0|\n",
      "|   octopus|       0|       0.0|\n",
      "|   opossum|       1|       1.0|\n",
      "|      oryx|       1|       1.0|\n",
      "|   ostrich|       0|       0.0|\n",
      "|  parakeet|       0|       0.0|\n",
      "|   penguin|       0|       0.0|\n",
      "|  pheasant|       0|       0.0|\n",
      "|      pike|       0|       0.0|\n",
      "|   piranha|       0|       0.0|\n",
      "|  pitviper|       0|       0.0|\n",
      "|  platypus|       1|       1.0|\n",
      "|   polecat|       1|       1.0|\n",
      "|      pony|       1|       1.0|\n",
      "|  porpoise|       1|       1.0|\n",
      "|      puma|       1|       1.0|\n",
      "|  pussycat|       1|       1.0|\n",
      "|   raccoon|       1|       1.0|\n",
      "|  reindeer|       1|       1.0|\n",
      "|      rhea|       0|       0.0|\n",
      "|  scorpion|       0|       0.0|\n",
      "|  seahorse|       0|       0.0|\n",
      "|      seal|       1|       1.0|\n",
      "|   sealion|       1|       1.0|\n",
      "|  seasnake|       0|       0.0|\n",
      "|   seawasp|       0|       0.0|\n",
      "|   skimmer|       0|       0.0|\n",
      "|      skua|       0|       0.0|\n",
      "|  slowworm|       0|       0.0|\n",
      "|      slug|       0|       0.0|\n",
      "|      sole|       0|       0.0|\n",
      "|   sparrow|       0|       0.0|\n",
      "|  squirrel|       1|       1.0|\n",
      "|  starfish|       0|       0.0|\n",
      "|  stingray|       0|       0.0|\n",
      "|      swan|       0|       0.0|\n",
      "|   termite|       0|       0.0|\n",
      "|      toad|       0|       0.0|\n",
      "|  tortoise|       0|       0.0|\n",
      "|   tuatara|       0|       0.0|\n",
      "|      tuna|       0|       0.0|\n",
      "|   vampire|       1|       1.0|\n",
      "|      vole|       1|       1.0|\n",
      "|   vulture|       0|       0.0|\n",
      "|   wallaby|       1|       1.0|\n",
      "|      wasp|       0|       0.0|\n",
      "|      wolf|       1|       1.0|\n",
      "|      worm|       0|       0.0|\n",
      "|      wren|       0|       0.0|\n",
      "+----------+--------+----------+\n",
      "\n"
     ]
    }
   ],
   "source": [
    "result_extracted = result.select(\"AnimalName\", \"IsMammal\", \"prediction\")\n",
    "result_extracted.show(200)"
   ]
  },
  {
   "cell_type": "code",
   "execution_count": null,
   "metadata": {},
   "outputs": [],
   "source": []
  }
 ],
 "metadata": {
  "kernelspec": {
   "display_name": "Python 3 (ipykernel)",
   "language": "python",
   "name": "python3"
  },
  "language_info": {
   "codemirror_mode": {
    "name": "ipython",
    "version": 3
   },
   "file_extension": ".py",
   "mimetype": "text/x-python",
   "name": "python",
   "nbconvert_exporter": "python",
   "pygments_lexer": "ipython3",
   "version": "3.9.5"
  }
 },
 "nbformat": 4,
 "nbformat_minor": 4
}
